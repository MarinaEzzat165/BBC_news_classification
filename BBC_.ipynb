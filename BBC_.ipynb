{
  "cells": [
    {
      "cell_type": "markdown",
      "metadata": {
        "id": "-mvODDgRarTX"
      },
      "source": []
    },
    {
      "cell_type": "code",
      "source": [
        "import csv\n",
        "import tensorflow as tf\n",
        "import numpy as np\n",
        "from tensorflow.keras.preprocessing.text import Tokenizer\n",
        "from tensorflow.keras.preprocessing.sequence import pad_sequences\n",
        "import pandas as pd\n",
        "#import io\n",
        "\n",
        "df = pd.read_csv(r\"/content/bbc-text.csv\")\n",
        "print (df)"
      ],
      "metadata": {
        "id": "L9osGrelceDx",
        "outputId": "3eecff44-434b-4cd4-fd9f-25d2d64096d2",
        "colab": {
          "base_uri": "https://localhost:8080/"
        }
      },
      "execution_count": 5,
      "outputs": [
        {
          "output_type": "stream",
          "name": "stdout",
          "text": [
            "           category                                               text\n",
            "0              tech  tv future in the hands of viewers with home th...\n",
            "1          business  worldcom boss  left books alone  former worldc...\n",
            "2             sport  tigers wary of farrell  gamble  leicester say ...\n",
            "3             sport  yeading face newcastle in fa cup premiership s...\n",
            "4     entertainment  ocean s twelve raids box office ocean s twelve...\n",
            "...             ...                                                ...\n",
            "2220       business  cars pull down us retail figures us retail sal...\n",
            "2221       politics  kilroy unveils immigration policy ex-chatshow ...\n",
            "2222  entertainment  rem announce new glasgow concert us band rem h...\n",
            "2223       politics  how political squabbles snowball it s become c...\n",
            "2224          sport  souness delight at euro progress boss graeme s...\n",
            "\n",
            "[2225 rows x 2 columns]\n"
          ]
        }
      ]
    },
    {
      "cell_type": "code",
      "source": [
        "vocab_size = 1000          # number of words\n",
        "embedding_dim = 16         # word dimintion\n",
        "max_length = 120\n",
        "turn_type = 'post'\n",
        "padding_type = 'post'\n",
        "oov_tok = \"OOV\"            # out of vocab.. when word didnot exist\n",
        "training_portion = .8      # to split data 80 to 20 for training"
      ],
      "metadata": {
        "id": "md3a8Ws_fOCg"
      },
      "execution_count": 6,
      "outputs": []
    },
    {
      "cell_type": "code",
      "source": [
        "sentences = []\n",
        "labels = []\n",
        "stopwords = [ \"a\", \"about\", \"above\", \"after\", \"again\", \"against\", \"all\", \"am\", \"an\", \"and\", \"any\", \"are\", \"as\", \"at\", \"be\", \"because\", \"been\", \"before\", \"being\", \"below\", \"between\", \"both\", \"but\", \"by\", \"could\", \"did\", \"do\", \"does\", \"doing\", \"down\", \"during\", \"each\", \"few\", \"for\", \"from\", \"further\", \"had\", \"has\", \"have\", \"having\", \"he\", \"he'd\", \"he'll\", \"he's\", \"her\", \"here\", \"here's\", \"hers\", \"herself\", \"him\", \"himself\", \"his\", \"how\", \"how's\", \"i\", \"i'd\", \"i'll\", \"i'm\", \"i've\", \"if\", \"in\", \"into\", \"is\", \"it\", \"it's\", \"its\", \"itself\", \"let's\", \"me\", \"more\", \"most\", \"my\", \"myself\", \"nor\", \"of\", \"on\", \"once\", \"only\", \"or\", \"other\", \"ought\", \"our\", \"ours\", \"ourselves\", \"out\", \"over\", \"own\", \"same\", \"she\", \"she'd\", \"she'll\", \"she's\", \"should\", \"so\", \"some\", \"such\", \"than\", \"that\", \"that's\", \"the\", \"their\", \"theirs\", \"them\", \"themselves\", \"then\", \"there\", \"there's\", \"these\", \"they\", \"they'd\", \"they'll\", \"they're\", \"they've\", \"this\", \"those\", \"through\", \"to\", \"too\", \"under\", \"until\", \"up\", \"very\", \"was\", \"we\", \"we'd\", \"we'll\", \"we're\", \"we've\", \"were\", \"what\", \"what's\", \"when\", \"when's\", \"where\", \"where's\", \"which\", \"while\", \"who\", \"who's\", \"whom\", \"why\", \"why's\", \"with\", \"would\", \"you\", \"you'd\", \"you'll\", \"you're\", \"you've\", \"your\", \"yours\", \"yourself\", \"yourselves\" ]\n",
        "print(len(stopwords))"
      ],
      "metadata": {
        "colab": {
          "base_uri": "https://localhost:8080/"
        },
        "id": "RBXnQJ6vZ-OF",
        "outputId": "e9d177bb-5166-424e-e725-c451922b142a"
      },
      "execution_count": 7,
      "outputs": [
        {
          "output_type": "stream",
          "name": "stdout",
          "text": [
            "153\n"
          ]
        }
      ]
    },
    {
      "cell_type": "code",
      "source": [
        "with open(\"/content/bbc-text.csv\", 'r') as csvfile:\n",
        "    for line in csvfile:\n",
        "      entry = line.split(',')\n",
        "      labels.append(entry[0])\n",
        "      sentences.append(entry[1])\n",
        "\n",
        "sentences = sentences[1:]\n",
        "labels = labels[1:]\n",
        "\n",
        "print(len(labels))\n",
        "print(len(sentences))\n",
        "print(sentences[0])\n",
        "print(labels[0])"
      ],
      "metadata": {
        "colab": {
          "base_uri": "https://localhost:8080/"
        },
        "id": "7GVuZxN-aXy5",
        "outputId": "ce0f174a-ff20-49cf-bcae-f696f8ca71fc"
      },
      "execution_count": 8,
      "outputs": [
        {
          "output_type": "stream",
          "name": "stdout",
          "text": [
            "2225\n",
            "2225\n",
            "tv future in the hands of viewers with home theatre systems  plasma high-definition tvs  and digital video recorders moving into the living room  the way people watch tv will be radically different in five years  time.  that is according to an expert panel which gathered at the annual consumer electronics show in las vegas to discuss how these new technologies will impact one of our favourite pastimes. with the us leading the trend  programmes and other content will be delivered to viewers via home networks  through cable  satellite  telecoms companies  and broadband service providers to front rooms and portable devices.  one of the most talked-about technologies of ces has been digital and personal video recorders (dvr and pvr). these set-top boxes  like the us s tivo and the uk s sky+ system  allow people to record  store  play  pause and forward wind tv programmes when they want.  essentially  the technology allows for much more personalised tv. they are also being built-in to high-definition tv sets  which are big business in japan and the us  but slower to take off in europe because of the lack of high-definition programming. not only can people forward wind through adverts  they can also forget about abiding by network and channel schedules  putting together their own a-la-carte entertainment. but some us networks and cable and satellite companies are worried about what it means for them in terms of advertising revenues as well as  brand identity  and viewer loyalty to channels. although the us leads in this technology at the moment  it is also a concern that is being raised in europe  particularly with the growing uptake of services like sky+.  what happens here today  we will see in nine months to a years  time in the uk   adam hume  the bbc broadcast s futurologist told the bbc news website. for the likes of the bbc  there are no issues of lost advertising revenue yet. it is a more pressing issue at the moment for commercial uk broadcasters  but brand loyalty is important for everyone.  we will be talking more about content brands rather than network brands   said tim hanlon  from brand communications firm starcom mediavest.  the reality is that with broadband connections  anybody can be the producer of content.  he added:  the challenge now is that it is hard to promote a programme with so much choice.   what this means  said stacey jolna  senior vice president of tv guide tv group  is that the way people find the content they want to watch has to be simplified for tv viewers. it means that networks  in us terms  or channels could take a leaf out of google s book and be the search engine of the future  instead of the scheduler to help people find what they want to watch. this kind of channel model might work for the younger ipod generation which is used to taking control of their gadgets and what they play on them. but it might not suit everyone  the panel recognised. older generations are more comfortable with familiar schedules and channel brands because they know what they are getting. they perhaps do not want so much of the choice put into their hands  mr hanlon suggested.  on the other end  you have the kids just out of diapers who are pushing buttons already - everything is possible and available to them   said mr hanlon.  ultimately  the consumer will tell the market they want.   of the 50 000 new gadgets and technologies being showcased at ces  many of them are about enhancing the tv-watching experience. high-definition tv sets are everywhere and many new models of lcd (liquid crystal display) tvs have been launched with dvr capability built into them  instead of being external boxes. one such example launched at the show is humax s 26-inch lcd tv with an 80-hour tivo dvr and dvd recorder. one of the us s biggest satellite tv companies  directtv  has even launched its own branded dvr at the show with 100-hours of recording capability  instant replay  and a search function. the set can pause and rewind tv for up to 90 hours. and microsoft chief bill gates announced in his pre-show keynote speech a partnership with tivo  called tivotogo  which means people can play recorded programmes on windows pcs and mobile devices. all these reflect the increasing trend of freeing up multimedia so that people can watch what they want  when they want.\n",
            "\n",
            "tech\n"
          ]
        }
      ]
    },
    {
      "cell_type": "code",
      "source": [
        "train_size = int(training_portion*len(sentences))   # 80%\n",
        "\n",
        "train_sentences = sentences[0:train_size]\n",
        "train_labels = labels[0:train_size]\n",
        "\n",
        "validation_sentences = sentences[train_size:]       # 20%\n",
        "validation_labels = labels[train_size:]\n",
        "\n",
        "print(train_size)\n",
        "print(len(train_sentences))\n",
        "print(len(train_labels))\n",
        "print(len(validation_sentences))\n",
        "print(len(validation_labels))"
      ],
      "metadata": {
        "colab": {
          "base_uri": "https://localhost:8080/"
        },
        "id": "XR_kfDnMcq4y",
        "outputId": "5a779075-1f9f-4250-93e7-487286e80096"
      },
      "execution_count": 9,
      "outputs": [
        {
          "output_type": "stream",
          "name": "stdout",
          "text": [
            "1780\n",
            "1780\n",
            "1780\n",
            "445\n",
            "445\n"
          ]
        }
      ]
    },
    {
      "cell_type": "code",
      "source": [
        "# tokenizer training set\n",
        "tokenizer = Tokenizer(num_words=vocab_size, oov_token=oov_tok)\n",
        "tokenizer.fit_on_texts(train_sentences)\n",
        "word_index = tokenizer.word_index\n",
        "\n",
        "# turn tokens into sequence\n",
        "train_sequences = tokenizer.texts_to_sequences(train_sentences)\n",
        "# pad training sequence\n",
        "train_padded = pad_sequences(train_sequences, maxlen=max_length, padding=padding_type, truncating=turn_type)\n",
        "\n",
        "print(len(train_sequences[0]))\n",
        "print(len(train_padded[0]))\n",
        "\n",
        "print(len(train_sequences[1]))\n",
        "print(len(train_padded[1]))\n",
        "\n",
        "print(len(train_sequences[10]))\n",
        "print(len(train_padded[10]))\n"
      ],
      "metadata": {
        "colab": {
          "base_uri": "https://localhost:8080/"
        },
        "id": "oz95Ds3kdSQy",
        "outputId": "4cb429b4-189b-4fdc-8b97-13c6202e0e4c"
      },
      "execution_count": 10,
      "outputs": [
        {
          "output_type": "stream",
          "name": "stdout",
          "text": [
            "750\n",
            "120\n",
            "300\n",
            "120\n",
            "311\n",
            "120\n"
          ]
        }
      ]
    },
    {
      "cell_type": "code",
      "source": [
        "# tokenizer validation set\n",
        "validation_sequences = tokenizer.texts_to_sequences(validation_sentences)\n",
        "validation_padded = pad_sequences(validation_sequences, maxlen=max_length, padding=padding_type, truncating=turn_type)\n",
        "\n",
        "print(len(validation_sequences))\n",
        "print(validation_padded.shape)"
      ],
      "metadata": {
        "colab": {
          "base_uri": "https://localhost:8080/"
        },
        "id": "Wz9EXKs8eohY",
        "outputId": "34f28fc5-09fc-4078-ec0d-6a2ded64bf66"
      },
      "execution_count": 11,
      "outputs": [
        {
          "output_type": "stream",
          "name": "stdout",
          "text": [
            "445\n",
            "(445, 120)\n"
          ]
        }
      ]
    },
    {
      "cell_type": "code",
      "source": [
        "# tokenize labels\n",
        "label_tokenizer = Tokenizer()\n",
        "label_tokenizer.fit_on_texts(train_labels)\n",
        "\n",
        "training_label_seq = label_tokenizer.texts_to_sequences(train_labels)\n",
        "validation_label_seq = label_tokenizer.texts_to_sequences(validation_labels)\n",
        "\n",
        "training_label_seq = np.array(training_label_seq)\n",
        "validation_label_seq = np.array(validation_label_seq)\n",
        "\n",
        "print(\"label_tokenizer word index \" , label_tokenizer.word_index)\n",
        "print(training_label_seq[0])\n",
        "print(training_label_seq[1])\n",
        "print(training_label_seq[2])\n",
        "print(training_label_seq.shape)\n",
        "\n",
        "print(validation_label_seq[0])\n",
        "print(validation_label_seq[1])\n",
        "print(validation_label_seq[2])\n",
        "print(validation_label_seq.shape)"
      ],
      "metadata": {
        "colab": {
          "base_uri": "https://localhost:8080/"
        },
        "id": "mrpDytsCe8lm",
        "outputId": "7fa1bbbc-6d99-4948-9362-4e592035e926"
      },
      "execution_count": 12,
      "outputs": [
        {
          "output_type": "stream",
          "name": "stdout",
          "text": [
            "label_tokenizer word index  {'sport': 1, 'business': 2, 'politics': 3, 'entertainment': 4, 'tech': 5}\n",
            "[5]\n",
            "[2]\n",
            "[1]\n",
            "(1780, 1)\n",
            "[4]\n",
            "[5]\n",
            "[3]\n",
            "(445, 1)\n"
          ]
        }
      ]
    },
    {
      "cell_type": "code",
      "source": [
        "model = tf.keras.Sequential([\n",
        "  tf.keras.layers.Embedding(input_dim=vocab_size, output_dim=embedding_dim, input_length=max_length),\n",
        "  tf.keras.layers.GlobalAveragePooling1D(),\n",
        "  tf.keras.layers.Dense(24, activation = 'relu'),\n",
        "  tf.keras.layers.Dense(6 , activation='softmax')\n",
        "])\n",
        "model.compile(loss='sparse_categorical_crossentropy',optimizer='adam',metrics=['accuracy'])\n",
        "model.summary()\n",
        "\n",
        "\n"
      ],
      "metadata": {
        "colab": {
          "base_uri": "https://localhost:8080/"
        },
        "id": "bw24PP4QfZe5",
        "outputId": "446fe104-8a52-412f-df01-1c4c1574999c"
      },
      "execution_count": 13,
      "outputs": [
        {
          "output_type": "stream",
          "name": "stdout",
          "text": [
            "Model: \"sequential\"\n",
            "_________________________________________________________________\n",
            " Layer (type)                Output Shape              Param #   \n",
            "=================================================================\n",
            " embedding (Embedding)       (None, 120, 16)           16000     \n",
            "                                                                 \n",
            " global_average_pooling1d (G  (None, 16)               0         \n",
            " lobalAveragePooling1D)                                          \n",
            "                                                                 \n",
            " dense (Dense)               (None, 24)                408       \n",
            "                                                                 \n",
            " dense_1 (Dense)             (None, 6)                 150       \n",
            "                                                                 \n",
            "=================================================================\n",
            "Total params: 16,558\n",
            "Trainable params: 16,558\n",
            "Non-trainable params: 0\n",
            "_________________________________________________________________\n"
          ]
        }
      ]
    },
    {
      "cell_type": "code",
      "source": [
        "num_epochs = 30\n",
        "history = model.fit(train_padded, training_label_seq, validation_data=(validation_padded, validation_label_seq), epochs=num_epochs)\n",
        ""
      ],
      "metadata": {
        "colab": {
          "base_uri": "https://localhost:8080/"
        },
        "id": "bqLH3LRVgUbH",
        "outputId": "361309f6-f964-4368-e53b-e4ccb476123a"
      },
      "execution_count": 14,
      "outputs": [
        {
          "output_type": "stream",
          "name": "stdout",
          "text": [
            "Epoch 1/30\n",
            "56/56 [==============================] - 13s 122ms/step - loss: 1.7609 - accuracy: 0.2461 - val_loss: 1.7233 - val_accuracy: 0.2382\n",
            "Epoch 2/30\n",
            "56/56 [==============================] - 4s 69ms/step - loss: 1.6873 - accuracy: 0.3253 - val_loss: 1.6453 - val_accuracy: 0.2742\n",
            "Epoch 3/30\n",
            "56/56 [==============================] - 2s 43ms/step - loss: 1.6052 - accuracy: 0.3478 - val_loss: 1.5602 - val_accuracy: 0.4225\n",
            "Epoch 4/30\n",
            "56/56 [==============================] - 2s 29ms/step - loss: 1.5029 - accuracy: 0.4573 - val_loss: 1.4465 - val_accuracy: 0.5124\n",
            "Epoch 5/30\n",
            "56/56 [==============================] - 1s 23ms/step - loss: 1.3597 - accuracy: 0.5882 - val_loss: 1.2921 - val_accuracy: 0.6360\n",
            "Epoch 6/30\n",
            "56/56 [==============================] - 1s 19ms/step - loss: 1.1821 - accuracy: 0.6994 - val_loss: 1.1228 - val_accuracy: 0.7034\n",
            "Epoch 7/30\n",
            "56/56 [==============================] - 0s 5ms/step - loss: 0.9938 - accuracy: 0.7635 - val_loss: 0.9496 - val_accuracy: 0.7820\n",
            "Epoch 8/30\n",
            "56/56 [==============================] - 0s 9ms/step - loss: 0.8245 - accuracy: 0.8320 - val_loss: 0.8109 - val_accuracy: 0.8427\n",
            "Epoch 9/30\n",
            "56/56 [==============================] - 0s 4ms/step - loss: 0.6869 - accuracy: 0.8860 - val_loss: 0.7060 - val_accuracy: 0.8517\n",
            "Epoch 10/30\n",
            "56/56 [==============================] - 0s 8ms/step - loss: 0.5824 - accuracy: 0.8978 - val_loss: 0.6203 - val_accuracy: 0.8764\n",
            "Epoch 11/30\n",
            "56/56 [==============================] - 1s 19ms/step - loss: 0.5014 - accuracy: 0.9022 - val_loss: 0.5569 - val_accuracy: 0.8742\n",
            "Epoch 12/30\n",
            "56/56 [==============================] - 1s 12ms/step - loss: 0.4342 - accuracy: 0.9208 - val_loss: 0.5084 - val_accuracy: 0.8787\n",
            "Epoch 13/30\n",
            "56/56 [==============================] - 1s 12ms/step - loss: 0.3786 - accuracy: 0.9315 - val_loss: 0.4651 - val_accuracy: 0.8921\n",
            "Epoch 14/30\n",
            "56/56 [==============================] - 1s 17ms/step - loss: 0.3330 - accuracy: 0.9433 - val_loss: 0.4314 - val_accuracy: 0.8921\n",
            "Epoch 15/30\n",
            "56/56 [==============================] - 1s 11ms/step - loss: 0.2934 - accuracy: 0.9494 - val_loss: 0.4023 - val_accuracy: 0.9011\n",
            "Epoch 16/30\n",
            "56/56 [==============================] - 0s 8ms/step - loss: 0.2596 - accuracy: 0.9539 - val_loss: 0.3818 - val_accuracy: 0.9056\n",
            "Epoch 17/30\n",
            "56/56 [==============================] - 0s 8ms/step - loss: 0.2308 - accuracy: 0.9607 - val_loss: 0.3599 - val_accuracy: 0.9101\n",
            "Epoch 18/30\n",
            "56/56 [==============================] - 1s 15ms/step - loss: 0.2059 - accuracy: 0.9663 - val_loss: 0.3429 - val_accuracy: 0.9101\n",
            "Epoch 19/30\n",
            "56/56 [==============================] - 1s 11ms/step - loss: 0.1842 - accuracy: 0.9713 - val_loss: 0.3283 - val_accuracy: 0.9034\n",
            "Epoch 20/30\n",
            "56/56 [==============================] - 0s 8ms/step - loss: 0.1649 - accuracy: 0.9736 - val_loss: 0.3221 - val_accuracy: 0.9124\n",
            "Epoch 21/30\n",
            "56/56 [==============================] - 0s 9ms/step - loss: 0.1495 - accuracy: 0.9742 - val_loss: 0.3097 - val_accuracy: 0.9213\n",
            "Epoch 22/30\n",
            "56/56 [==============================] - 0s 9ms/step - loss: 0.1346 - accuracy: 0.9826 - val_loss: 0.2998 - val_accuracy: 0.9191\n",
            "Epoch 23/30\n",
            "56/56 [==============================] - 0s 4ms/step - loss: 0.1224 - accuracy: 0.9809 - val_loss: 0.2929 - val_accuracy: 0.9191\n",
            "Epoch 24/30\n",
            "56/56 [==============================] - 0s 8ms/step - loss: 0.1096 - accuracy: 0.9843 - val_loss: 0.2861 - val_accuracy: 0.9191\n",
            "Epoch 25/30\n",
            "56/56 [==============================] - 0s 5ms/step - loss: 0.1001 - accuracy: 0.9888 - val_loss: 0.2820 - val_accuracy: 0.9258\n",
            "Epoch 26/30\n",
            "56/56 [==============================] - 0s 9ms/step - loss: 0.0909 - accuracy: 0.9893 - val_loss: 0.2796 - val_accuracy: 0.9236\n",
            "Epoch 27/30\n",
            "56/56 [==============================] - 0s 4ms/step - loss: 0.0838 - accuracy: 0.9904 - val_loss: 0.2781 - val_accuracy: 0.9348\n",
            "Epoch 28/30\n",
            "56/56 [==============================] - 1s 11ms/step - loss: 0.0766 - accuracy: 0.9916 - val_loss: 0.2734 - val_accuracy: 0.9326\n",
            "Epoch 29/30\n",
            "56/56 [==============================] - 0s 4ms/step - loss: 0.0694 - accuracy: 0.9916 - val_loss: 0.2686 - val_accuracy: 0.9303\n",
            "Epoch 30/30\n",
            "56/56 [==============================] - 0s 5ms/step - loss: 0.0634 - accuracy: 0.9944 - val_loss: 0.2657 - val_accuracy: 0.9281\n"
          ]
        }
      ]
    },
    {
      "cell_type": "code",
      "source": [
        "import matplotlib.pyplot as plt\n",
        "\n",
        "def plot_graphs(history, string):\n",
        "  plt.plot(history.history[string])\n",
        "  plt.plot(history.history['val_'+string])\n",
        "  plt.xlabel(\"Epochs\")\n",
        "  plt.ylabel(string)\n",
        "  plt.legend([string, 'val_'+string])\n",
        "  plt.show()\n",
        "\n",
        "plot_graphs(history, \"accuracy\")\n",
        "plot_graphs(history, \"loss\")"
      ],
      "metadata": {
        "colab": {
          "base_uri": "https://localhost:8080/",
          "height": 881
        },
        "id": "vyAZJWQyhfCa",
        "outputId": "4c038161-659e-446b-aa40-aab80fd7253e"
      },
      "execution_count": 15,
      "outputs": [
        {
          "output_type": "display_data",
          "data": {
            "text/plain": [
              "<Figure size 640x480 with 1 Axes>"
            ],
            "image/png": "[encoded data removed]"
          },
          "metadata": {}
        },
        {
          "output_type": "display_data",
          "data": {
            "text/plain": [
              "<Figure size 640x480 with 1 Axes>"
            ],
            "image/png": "[encoded data removed]"
          },
          "metadata": {}
        }
      ]
    }
  ],
  "metadata": {
    "accelerator": "GPU",
    "colab": {
      "provenance": []
    },
    "kernelspec": {
      "display_name": "Python 3",
      "name": "python3"
    },
    "language_info": {
      "name": "python"
    }
  },
  "nbformat": 4,
  "nbformat_minor": 0
}